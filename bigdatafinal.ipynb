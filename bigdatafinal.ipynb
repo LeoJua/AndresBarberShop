{
  "nbformat": 4,
  "nbformat_minor": 0,
  "metadata": {
    "colab": {
      "name": "bigdatafinal",
      "provenance": [],
      "collapsed_sections": [],
      "toc_visible": true,
      "mount_file_id": "1S0V4GK5OrDgi_B1hRs4nWX8Fu18d9R_C",
      "authorship_tag": "ABX9TyOdCWSpsYlWuv8TbOzAjKFI",
      "include_colab_link": true
    },
    "kernelspec": {
      "name": "python3",
      "display_name": "Python 3"
    },
    "language_info": {
      "name": "python"
    }
  },
  "cells": [
    {
      "cell_type": "markdown",
      "metadata": {
        "id": "view-in-github",
        "colab_type": "text"
      },
      "source": [
        "<a href=\"https://colab.research.google.com/github/LeoJua/AndresBarberShop/blob/main/bigdatafinal.ipynb\" target=\"_parent\"><img src=\"https://colab.research.google.com/assets/colab-badge.svg\" alt=\"Open In Colab\"/></a>"
      ]
    },
    {
      "cell_type": "code",
      "execution_count": 146,
      "metadata": {
        "id": "_MLsibZPmMFP"
      },
      "outputs": [],
      "source": [
        "import pandas as pd\n",
        "from textblob import TextBlob\n",
        "from wordcloud import WordCloud\n",
        "import csv\n",
        "import re\n",
        "import time\n",
        "import string"
      ]
    },
    {
      "cell_type": "code",
      "source": [
        "TextBlob('I love Javascript').sentiment"
      ],
      "metadata": {
        "colab": {
          "base_uri": "https://localhost:8080/"
        },
        "id": "dOsYmWdPmaLR",
        "outputId": "db0672b3-f758-4125-8058-38038f96994a"
      },
      "execution_count": null,
      "outputs": [
        {
          "output_type": "execute_result",
          "data": {
            "text/plain": [
              "Sentiment(polarity=0.5, subjectivity=0.6)"
            ]
          },
          "metadata": {},
          "execution_count": 2
        }
      ]
    },
    {
      "cell_type": "code",
      "source": [
        "TextBlob('I hate the spaghetti code').sentiment"
      ],
      "metadata": {
        "colab": {
          "base_uri": "https://localhost:8080/"
        },
        "id": "TEm10iVimdRp",
        "outputId": "b8a1e9eb-fd7c-4d9e-9e10-4fc1b36ed06f"
      },
      "execution_count": null,
      "outputs": [
        {
          "output_type": "execute_result",
          "data": {
            "text/plain": [
              "Sentiment(polarity=-0.8, subjectivity=0.9)"
            ]
          },
          "metadata": {},
          "execution_count": 3
        }
      ]
    },
    {
      "cell_type": "code",
      "source": [
        "TextBlob('Odio el código spaguetti').sentiment"
      ],
      "metadata": {
        "colab": {
          "base_uri": "https://localhost:8080/"
        },
        "id": "Ls_SsaGsmgn0",
        "outputId": "92ce32ff-3925-4f5f-fecc-6c4c704cdf74"
      },
      "execution_count": null,
      "outputs": [
        {
          "output_type": "execute_result",
          "data": {
            "text/plain": [
              "Sentiment(polarity=0.0, subjectivity=0.0)"
            ]
          },
          "metadata": {},
          "execution_count": 4
        }
      ]
    },
    {
      "cell_type": "code",
      "source": [
        "TextBlob('Odio el código spaguetti').translate(from_lang='es', to='en').sentiment #fr, pt, it"
      ],
      "metadata": {
        "colab": {
          "base_uri": "https://localhost:8080/"
        },
        "id": "GlOWWih3mksJ",
        "outputId": "60852f1f-e553-487c-e37d-0d7221c105c6"
      },
      "execution_count": null,
      "outputs": [
        {
          "output_type": "execute_result",
          "data": {
            "text/plain": [
              "Sentiment(polarity=-0.8, subjectivity=0.9)"
            ]
          },
          "metadata": {},
          "execution_count": 5
        }
      ]
    },
    {
      "cell_type": "code",
      "source": [
        "df = pd.read_csv('Reviews.csv')\n",
        "df.head(50)"
      ],
      "metadata": {
        "colab": {
          "base_uri": "https://localhost:8080/",
          "height": 457
        },
        "id": "_dXqFn7lmpAE",
        "outputId": "26665436-d8dc-440d-96e3-c4bd2c936cc9"
      },
      "execution_count": 188,
      "outputs": [
        {
          "output_type": "execute_result",
          "data": {
            "text/plain": [
              "                                                texto\n",
              "0   I have bought several of the Vitality canned d...\n",
              "1   If you are looking for the secret ingredient i...\n",
              "2   Right now I'm mostly just sprouting this so my...\n",
              "3   This is a very healthy dog food. Good for thei...\n",
              "4   I love eating them and they are good for watch...\n",
              "5   I am very satisfied with my Twizzler purchase....\n",
              "6   Candy was delivered very fast and was purchase...\n",
              "7   I can remember buying this candy as a kid and ...\n",
              "8   I love this candy.  After weight watchers I ha...\n",
              "9   I was so glad Amazon carried these batteries. ...\n",
              "10  I have McCann's Oatmeal every morning and by o...\n",
              "11  We really like the McCann's steel cut oats but...\n",
              "12  Good oatmeal.  I like the apple cinnamon the b..."
            ],
            "text/html": [
              "\n",
              "  <div id=\"df-cbfad5b7-9179-483a-b400-705b3c230d85\">\n",
              "    <div class=\"colab-df-container\">\n",
              "      <div>\n",
              "<style scoped>\n",
              "    .dataframe tbody tr th:only-of-type {\n",
              "        vertical-align: middle;\n",
              "    }\n",
              "\n",
              "    .dataframe tbody tr th {\n",
              "        vertical-align: top;\n",
              "    }\n",
              "\n",
              "    .dataframe thead th {\n",
              "        text-align: right;\n",
              "    }\n",
              "</style>\n",
              "<table border=\"1\" class=\"dataframe\">\n",
              "  <thead>\n",
              "    <tr style=\"text-align: right;\">\n",
              "      <th></th>\n",
              "      <th>texto</th>\n",
              "    </tr>\n",
              "  </thead>\n",
              "  <tbody>\n",
              "    <tr>\n",
              "      <th>0</th>\n",
              "      <td>I have bought several of the Vitality canned d...</td>\n",
              "    </tr>\n",
              "    <tr>\n",
              "      <th>1</th>\n",
              "      <td>If you are looking for the secret ingredient i...</td>\n",
              "    </tr>\n",
              "    <tr>\n",
              "      <th>2</th>\n",
              "      <td>Right now I'm mostly just sprouting this so my...</td>\n",
              "    </tr>\n",
              "    <tr>\n",
              "      <th>3</th>\n",
              "      <td>This is a very healthy dog food. Good for thei...</td>\n",
              "    </tr>\n",
              "    <tr>\n",
              "      <th>4</th>\n",
              "      <td>I love eating them and they are good for watch...</td>\n",
              "    </tr>\n",
              "    <tr>\n",
              "      <th>5</th>\n",
              "      <td>I am very satisfied with my Twizzler purchase....</td>\n",
              "    </tr>\n",
              "    <tr>\n",
              "      <th>6</th>\n",
              "      <td>Candy was delivered very fast and was purchase...</td>\n",
              "    </tr>\n",
              "    <tr>\n",
              "      <th>7</th>\n",
              "      <td>I can remember buying this candy as a kid and ...</td>\n",
              "    </tr>\n",
              "    <tr>\n",
              "      <th>8</th>\n",
              "      <td>I love this candy.  After weight watchers I ha...</td>\n",
              "    </tr>\n",
              "    <tr>\n",
              "      <th>9</th>\n",
              "      <td>I was so glad Amazon carried these batteries. ...</td>\n",
              "    </tr>\n",
              "    <tr>\n",
              "      <th>10</th>\n",
              "      <td>I have McCann's Oatmeal every morning and by o...</td>\n",
              "    </tr>\n",
              "    <tr>\n",
              "      <th>11</th>\n",
              "      <td>We really like the McCann's steel cut oats but...</td>\n",
              "    </tr>\n",
              "    <tr>\n",
              "      <th>12</th>\n",
              "      <td>Good oatmeal.  I like the apple cinnamon the b...</td>\n",
              "    </tr>\n",
              "  </tbody>\n",
              "</table>\n",
              "</div>\n",
              "      <button class=\"colab-df-convert\" onclick=\"convertToInteractive('df-cbfad5b7-9179-483a-b400-705b3c230d85')\"\n",
              "              title=\"Convert this dataframe to an interactive table.\"\n",
              "              style=\"display:none;\">\n",
              "        \n",
              "  <svg xmlns=\"http://www.w3.org/2000/svg\" height=\"24px\"viewBox=\"0 0 24 24\"\n",
              "       width=\"24px\">\n",
              "    <path d=\"M0 0h24v24H0V0z\" fill=\"none\"/>\n",
              "    <path d=\"M18.56 5.44l.94 2.06.94-2.06 2.06-.94-2.06-.94-.94-2.06-.94 2.06-2.06.94zm-11 1L8.5 8.5l.94-2.06 2.06-.94-2.06-.94L8.5 2.5l-.94 2.06-2.06.94zm10 10l.94 2.06.94-2.06 2.06-.94-2.06-.94-.94-2.06-.94 2.06-2.06.94z\"/><path d=\"M17.41 7.96l-1.37-1.37c-.4-.4-.92-.59-1.43-.59-.52 0-1.04.2-1.43.59L10.3 9.45l-7.72 7.72c-.78.78-.78 2.05 0 2.83L4 21.41c.39.39.9.59 1.41.59.51 0 1.02-.2 1.41-.59l7.78-7.78 2.81-2.81c.8-.78.8-2.07 0-2.86zM5.41 20L4 18.59l7.72-7.72 1.47 1.35L5.41 20z\"/>\n",
              "  </svg>\n",
              "      </button>\n",
              "      \n",
              "  <style>\n",
              "    .colab-df-container {\n",
              "      display:flex;\n",
              "      flex-wrap:wrap;\n",
              "      gap: 12px;\n",
              "    }\n",
              "\n",
              "    .colab-df-convert {\n",
              "      background-color: #E8F0FE;\n",
              "      border: none;\n",
              "      border-radius: 50%;\n",
              "      cursor: pointer;\n",
              "      display: none;\n",
              "      fill: #1967D2;\n",
              "      height: 32px;\n",
              "      padding: 0 0 0 0;\n",
              "      width: 32px;\n",
              "    }\n",
              "\n",
              "    .colab-df-convert:hover {\n",
              "      background-color: #E2EBFA;\n",
              "      box-shadow: 0px 1px 2px rgba(60, 64, 67, 0.3), 0px 1px 3px 1px rgba(60, 64, 67, 0.15);\n",
              "      fill: #174EA6;\n",
              "    }\n",
              "\n",
              "    [theme=dark] .colab-df-convert {\n",
              "      background-color: #3B4455;\n",
              "      fill: #D2E3FC;\n",
              "    }\n",
              "\n",
              "    [theme=dark] .colab-df-convert:hover {\n",
              "      background-color: #434B5C;\n",
              "      box-shadow: 0px 1px 3px 1px rgba(0, 0, 0, 0.15);\n",
              "      filter: drop-shadow(0px 1px 2px rgba(0, 0, 0, 0.3));\n",
              "      fill: #FFFFFF;\n",
              "    }\n",
              "  </style>\n",
              "\n",
              "      <script>\n",
              "        const buttonEl =\n",
              "          document.querySelector('#df-cbfad5b7-9179-483a-b400-705b3c230d85 button.colab-df-convert');\n",
              "        buttonEl.style.display =\n",
              "          google.colab.kernel.accessAllowed ? 'block' : 'none';\n",
              "\n",
              "        async function convertToInteractive(key) {\n",
              "          const element = document.querySelector('#df-cbfad5b7-9179-483a-b400-705b3c230d85');\n",
              "          const dataTable =\n",
              "            await google.colab.kernel.invokeFunction('convertToInteractive',\n",
              "                                                     [key], {});\n",
              "          if (!dataTable) return;\n",
              "\n",
              "          const docLinkHtml = 'Like what you see? Visit the ' +\n",
              "            '<a target=\"_blank\" href=https://colab.research.google.com/notebooks/data_table.ipynb>data table notebook</a>'\n",
              "            + ' to learn more about interactive tables.';\n",
              "          element.innerHTML = '';\n",
              "          dataTable['output_type'] = 'display_data';\n",
              "          await google.colab.output.renderOutput(dataTable, element);\n",
              "          const docLink = document.createElement('div');\n",
              "          docLink.innerHTML = docLinkHtml;\n",
              "          element.appendChild(docLink);\n",
              "        }\n",
              "      </script>\n",
              "    </div>\n",
              "  </div>\n",
              "  "
            ]
          },
          "metadata": {},
          "execution_count": 188
        }
      ]
    },
    {
      "cell_type": "code",
      "source": [
        "def cleanTxt(text):\n",
        "  text = re.sub(r'^RT[\\s]+', '', text)\n",
        "  text = re.sub(r'https?:\\/\\/.*[\\r\\n]*', '', text)\n",
        "  text = re.sub(r'#', '', text)\n",
        "  text = re.sub(r'@[A-Za-z0-9]+', '', text)\n",
        "  return text"
      ],
      "metadata": {
        "id": "Z82pXdpBmofr"
      },
      "execution_count": 61,
      "outputs": []
    },
    {
      "cell_type": "code",
      "source": [
        "df['cleanTxt'] = df['texto'].apply(cleanTxt)"
      ],
      "metadata": {
        "id": "DMRkQCOC-juG"
      },
      "execution_count": 155,
      "outputs": []
    },
    {
      "cell_type": "code",
      "source": [
        " #crear una funcion para obtener la subjetividad\n",
        "def getSubjectivity (text):\n",
        "  return TextBlob(text). sentiment.subjectivity\n",
        "#crear una funcion para obtener la polaridad\n",
        "def getPolarity (text):\n",
        "  return TextBlob(text). sentiment.polarity\n",
        "#crear dos columnas 'Subjectivity' y 'Polarity'\n",
        "df['Subjectivity'] = df['texto'].apply(getSubjectivity)\n",
        "df['Polarity'] = df [ 'texto'].apply(getPolarity)\n",
        "#mostrar el nuevo DataFrame con las dos nuevas columnas 'Subjectivity' y 'Polarity'\n",
        "df"
      ],
      "metadata": {
        "colab": {
          "base_uri": "https://localhost:8080/",
          "height": 457
        },
        "id": "rXzeSaJdGuQo",
        "outputId": "cbdaed7f-1a10-4785-8d48-538d2fcdf4b3"
      },
      "execution_count": 156,
      "outputs": [
        {
          "output_type": "execute_result",
          "data": {
            "text/plain": [
              "                                                texto  \\\n",
              "0   I have bought several of the Vitality canned d...   \n",
              "1   If you are looking for the secret ingredient i...   \n",
              "2   Right now I'm mostly just sprouting this so my...   \n",
              "3   This is a very healthy dog food. Good for thei...   \n",
              "4   I love eating them and they are good for watch...   \n",
              "5   I am very satisfied with my Twizzler purchase....   \n",
              "6   Candy was delivered very fast and was purchase...   \n",
              "7   I can remember buying this candy as a kid and ...   \n",
              "8   I love this candy.  After weight watchers I ha...   \n",
              "9   I was so glad Amazon carried these batteries. ...   \n",
              "10  I have McCann's Oatmeal every morning and by o...   \n",
              "11  We really like the McCann's steel cut oats but...   \n",
              "12  Good oatmeal.  I like the apple cinnamon the b...   \n",
              "\n",
              "                                             cleanTxt  Polarity  result  \\\n",
              "0   I have bought several of the Vitality canned d...  0.450000       1   \n",
              "1   If you are looking for the secret ingredient i...  0.166667       1   \n",
              "2   Right now I'm mostly just sprouting this so my...  0.428571       1   \n",
              "3   This is a very healthy dog food. Good for thei...  0.450000       1   \n",
              "4   I love eating them and they are good for watch...  0.506250       1   \n",
              "5   I am very satisfied with my Twizzler purchase....  0.412500       1   \n",
              "6   Candy was delivered very fast and was purchase...  0.240000       1   \n",
              "7   I can remember buying this candy as a kid and ...  0.125000       1   \n",
              "8   I love this candy.  After weight watchers I ha...  0.250000       1   \n",
              "9   I was so glad Amazon carried these batteries. ...  0.145833       1   \n",
              "10  I have McCann's Oatmeal every morning and by o...  0.687500       1   \n",
              "11  We really like the McCann's steel cut oats but...  0.466667       1   \n",
              "12  Good oatmeal.  I like the apple cinnamon the b...  0.475000       1   \n",
              "\n",
              "    Subjectivity  \n",
              "0       0.433333  \n",
              "1       0.533333  \n",
              "2       0.545238  \n",
              "3       0.562500  \n",
              "4       0.587500  \n",
              "5       0.675000  \n",
              "6       0.720000  \n",
              "7       0.875000  \n",
              "8       0.300000  \n",
              "9       0.760417  \n",
              "10      0.693750  \n",
              "11      0.433333  \n",
              "12      0.468750  "
            ],
            "text/html": [
              "\n",
              "  <div id=\"df-a48a3ca5-b8ae-4415-b4f9-0d59a3f5b261\">\n",
              "    <div class=\"colab-df-container\">\n",
              "      <div>\n",
              "<style scoped>\n",
              "    .dataframe tbody tr th:only-of-type {\n",
              "        vertical-align: middle;\n",
              "    }\n",
              "\n",
              "    .dataframe tbody tr th {\n",
              "        vertical-align: top;\n",
              "    }\n",
              "\n",
              "    .dataframe thead th {\n",
              "        text-align: right;\n",
              "    }\n",
              "</style>\n",
              "<table border=\"1\" class=\"dataframe\">\n",
              "  <thead>\n",
              "    <tr style=\"text-align: right;\">\n",
              "      <th></th>\n",
              "      <th>texto</th>\n",
              "      <th>cleanTxt</th>\n",
              "      <th>Polarity</th>\n",
              "      <th>result</th>\n",
              "      <th>Subjectivity</th>\n",
              "    </tr>\n",
              "  </thead>\n",
              "  <tbody>\n",
              "    <tr>\n",
              "      <th>0</th>\n",
              "      <td>I have bought several of the Vitality canned d...</td>\n",
              "      <td>I have bought several of the Vitality canned d...</td>\n",
              "      <td>0.450000</td>\n",
              "      <td>1</td>\n",
              "      <td>0.433333</td>\n",
              "    </tr>\n",
              "    <tr>\n",
              "      <th>1</th>\n",
              "      <td>If you are looking for the secret ingredient i...</td>\n",
              "      <td>If you are looking for the secret ingredient i...</td>\n",
              "      <td>0.166667</td>\n",
              "      <td>1</td>\n",
              "      <td>0.533333</td>\n",
              "    </tr>\n",
              "    <tr>\n",
              "      <th>2</th>\n",
              "      <td>Right now I'm mostly just sprouting this so my...</td>\n",
              "      <td>Right now I'm mostly just sprouting this so my...</td>\n",
              "      <td>0.428571</td>\n",
              "      <td>1</td>\n",
              "      <td>0.545238</td>\n",
              "    </tr>\n",
              "    <tr>\n",
              "      <th>3</th>\n",
              "      <td>This is a very healthy dog food. Good for thei...</td>\n",
              "      <td>This is a very healthy dog food. Good for thei...</td>\n",
              "      <td>0.450000</td>\n",
              "      <td>1</td>\n",
              "      <td>0.562500</td>\n",
              "    </tr>\n",
              "    <tr>\n",
              "      <th>4</th>\n",
              "      <td>I love eating them and they are good for watch...</td>\n",
              "      <td>I love eating them and they are good for watch...</td>\n",
              "      <td>0.506250</td>\n",
              "      <td>1</td>\n",
              "      <td>0.587500</td>\n",
              "    </tr>\n",
              "    <tr>\n",
              "      <th>5</th>\n",
              "      <td>I am very satisfied with my Twizzler purchase....</td>\n",
              "      <td>I am very satisfied with my Twizzler purchase....</td>\n",
              "      <td>0.412500</td>\n",
              "      <td>1</td>\n",
              "      <td>0.675000</td>\n",
              "    </tr>\n",
              "    <tr>\n",
              "      <th>6</th>\n",
              "      <td>Candy was delivered very fast and was purchase...</td>\n",
              "      <td>Candy was delivered very fast and was purchase...</td>\n",
              "      <td>0.240000</td>\n",
              "      <td>1</td>\n",
              "      <td>0.720000</td>\n",
              "    </tr>\n",
              "    <tr>\n",
              "      <th>7</th>\n",
              "      <td>I can remember buying this candy as a kid and ...</td>\n",
              "      <td>I can remember buying this candy as a kid and ...</td>\n",
              "      <td>0.125000</td>\n",
              "      <td>1</td>\n",
              "      <td>0.875000</td>\n",
              "    </tr>\n",
              "    <tr>\n",
              "      <th>8</th>\n",
              "      <td>I love this candy.  After weight watchers I ha...</td>\n",
              "      <td>I love this candy.  After weight watchers I ha...</td>\n",
              "      <td>0.250000</td>\n",
              "      <td>1</td>\n",
              "      <td>0.300000</td>\n",
              "    </tr>\n",
              "    <tr>\n",
              "      <th>9</th>\n",
              "      <td>I was so glad Amazon carried these batteries. ...</td>\n",
              "      <td>I was so glad Amazon carried these batteries. ...</td>\n",
              "      <td>0.145833</td>\n",
              "      <td>1</td>\n",
              "      <td>0.760417</td>\n",
              "    </tr>\n",
              "    <tr>\n",
              "      <th>10</th>\n",
              "      <td>I have McCann's Oatmeal every morning and by o...</td>\n",
              "      <td>I have McCann's Oatmeal every morning and by o...</td>\n",
              "      <td>0.687500</td>\n",
              "      <td>1</td>\n",
              "      <td>0.693750</td>\n",
              "    </tr>\n",
              "    <tr>\n",
              "      <th>11</th>\n",
              "      <td>We really like the McCann's steel cut oats but...</td>\n",
              "      <td>We really like the McCann's steel cut oats but...</td>\n",
              "      <td>0.466667</td>\n",
              "      <td>1</td>\n",
              "      <td>0.433333</td>\n",
              "    </tr>\n",
              "    <tr>\n",
              "      <th>12</th>\n",
              "      <td>Good oatmeal.  I like the apple cinnamon the b...</td>\n",
              "      <td>Good oatmeal.  I like the apple cinnamon the b...</td>\n",
              "      <td>0.475000</td>\n",
              "      <td>1</td>\n",
              "      <td>0.468750</td>\n",
              "    </tr>\n",
              "  </tbody>\n",
              "</table>\n",
              "</div>\n",
              "      <button class=\"colab-df-convert\" onclick=\"convertToInteractive('df-a48a3ca5-b8ae-4415-b4f9-0d59a3f5b261')\"\n",
              "              title=\"Convert this dataframe to an interactive table.\"\n",
              "              style=\"display:none;\">\n",
              "        \n",
              "  <svg xmlns=\"http://www.w3.org/2000/svg\" height=\"24px\"viewBox=\"0 0 24 24\"\n",
              "       width=\"24px\">\n",
              "    <path d=\"M0 0h24v24H0V0z\" fill=\"none\"/>\n",
              "    <path d=\"M18.56 5.44l.94 2.06.94-2.06 2.06-.94-2.06-.94-.94-2.06-.94 2.06-2.06.94zm-11 1L8.5 8.5l.94-2.06 2.06-.94-2.06-.94L8.5 2.5l-.94 2.06-2.06.94zm10 10l.94 2.06.94-2.06 2.06-.94-2.06-.94-.94-2.06-.94 2.06-2.06.94z\"/><path d=\"M17.41 7.96l-1.37-1.37c-.4-.4-.92-.59-1.43-.59-.52 0-1.04.2-1.43.59L10.3 9.45l-7.72 7.72c-.78.78-.78 2.05 0 2.83L4 21.41c.39.39.9.59 1.41.59.51 0 1.02-.2 1.41-.59l7.78-7.78 2.81-2.81c.8-.78.8-2.07 0-2.86zM5.41 20L4 18.59l7.72-7.72 1.47 1.35L5.41 20z\"/>\n",
              "  </svg>\n",
              "      </button>\n",
              "      \n",
              "  <style>\n",
              "    .colab-df-container {\n",
              "      display:flex;\n",
              "      flex-wrap:wrap;\n",
              "      gap: 12px;\n",
              "    }\n",
              "\n",
              "    .colab-df-convert {\n",
              "      background-color: #E8F0FE;\n",
              "      border: none;\n",
              "      border-radius: 50%;\n",
              "      cursor: pointer;\n",
              "      display: none;\n",
              "      fill: #1967D2;\n",
              "      height: 32px;\n",
              "      padding: 0 0 0 0;\n",
              "      width: 32px;\n",
              "    }\n",
              "\n",
              "    .colab-df-convert:hover {\n",
              "      background-color: #E2EBFA;\n",
              "      box-shadow: 0px 1px 2px rgba(60, 64, 67, 0.3), 0px 1px 3px 1px rgba(60, 64, 67, 0.15);\n",
              "      fill: #174EA6;\n",
              "    }\n",
              "\n",
              "    [theme=dark] .colab-df-convert {\n",
              "      background-color: #3B4455;\n",
              "      fill: #D2E3FC;\n",
              "    }\n",
              "\n",
              "    [theme=dark] .colab-df-convert:hover {\n",
              "      background-color: #434B5C;\n",
              "      box-shadow: 0px 1px 3px 1px rgba(0, 0, 0, 0.15);\n",
              "      filter: drop-shadow(0px 1px 2px rgba(0, 0, 0, 0.3));\n",
              "      fill: #FFFFFF;\n",
              "    }\n",
              "  </style>\n",
              "\n",
              "      <script>\n",
              "        const buttonEl =\n",
              "          document.querySelector('#df-a48a3ca5-b8ae-4415-b4f9-0d59a3f5b261 button.colab-df-convert');\n",
              "        buttonEl.style.display =\n",
              "          google.colab.kernel.accessAllowed ? 'block' : 'none';\n",
              "\n",
              "        async function convertToInteractive(key) {\n",
              "          const element = document.querySelector('#df-a48a3ca5-b8ae-4415-b4f9-0d59a3f5b261');\n",
              "          const dataTable =\n",
              "            await google.colab.kernel.invokeFunction('convertToInteractive',\n",
              "                                                     [key], {});\n",
              "          if (!dataTable) return;\n",
              "\n",
              "          const docLinkHtml = 'Like what you see? Visit the ' +\n",
              "            '<a target=\"_blank\" href=https://colab.research.google.com/notebooks/data_table.ipynb>data table notebook</a>'\n",
              "            + ' to learn more about interactive tables.';\n",
              "          element.innerHTML = '';\n",
              "          dataTable['output_type'] = 'display_data';\n",
              "          await google.colab.output.renderOutput(dataTable, element);\n",
              "          const docLink = document.createElement('div');\n",
              "          docLink.innerHTML = docLinkHtml;\n",
              "          element.appendChild(docLink);\n",
              "        }\n",
              "      </script>\n",
              "    </div>\n",
              "  </div>\n",
              "  "
            ]
          },
          "metadata": {},
          "execution_count": 156
        }
      ]
    },
    {
      "cell_type": "code",
      "source": [
        "\n",
        " #visualizacion de la nube de palabras\n",
        "allWords = ''.join([twts for twts in df['texto']])\n",
        "wordCloud = WordCloud(width=500, height=300, random_state=21, max_font_size=110).generate(allWords)\n",
        "\n",
        "plt.imshow(wordCloud, interpolation=\"bilinear\")\n",
        "plt.axis ('off')\n",
        "plt.show()"
      ],
      "metadata": {
        "colab": {
          "base_uri": "https://localhost:8080/",
          "height": 232
        },
        "id": "4IiBNNnbFP0R",
        "outputId": "8e744024-67e4-47e3-ee75-4ece2d973aed"
      },
      "execution_count": 151,
      "outputs": [
        {
          "output_type": "display_data",
          "data": {
            "text/plain": [
              "<Figure size 432x288 with 1 Axes>"
            ],
            "image/png": "[encoded data removed]"
          },
          "metadata": {
            "needs_background": "light"
          }
        }
      ]
    },
    {
      "cell_type": "code",
      "source": [
        " # Cree una función para calcular el análisis negativo (-1), neutral (0) y positivo (+1)\n",
        "def getAnalysis (score):\n",
        "  if score < 0:\n",
        "    return 'Negative'\n",
        "  elif score == 0:\n",
        "    return 'Neutral'\n",
        "  else:\n",
        "    return 'Positive'\n",
        "df['Analysis'] = df['Polarity'].apply(getAnalysis)\n",
        "#mostrar el dataFrame\n",
        "df"
      ],
      "metadata": {
        "colab": {
          "base_uri": "https://localhost:8080/",
          "height": 457
        },
        "id": "NJEvt6tkIqQ3",
        "outputId": "c5da24e9-d3f8-46f7-d298-d443db6a1df9"
      },
      "execution_count": 162,
      "outputs": [
        {
          "output_type": "execute_result",
          "data": {
            "text/plain": [
              "                                                texto  \\\n",
              "0   I have bought several of the Vitality canned d...   \n",
              "1   If you are looking for the secret ingredient i...   \n",
              "2   Right now I'm mostly just sprouting this so my...   \n",
              "3   This is a very healthy dog food. Good for thei...   \n",
              "4   I love eating them and they are good for watch...   \n",
              "5   I am very satisfied with my Twizzler purchase....   \n",
              "6   Candy was delivered very fast and was purchase...   \n",
              "7   I can remember buying this candy as a kid and ...   \n",
              "8   I love this candy.  After weight watchers I ha...   \n",
              "9   I was so glad Amazon carried these batteries. ...   \n",
              "10  I have McCann's Oatmeal every morning and by o...   \n",
              "11  We really like the McCann's steel cut oats but...   \n",
              "12  Good oatmeal.  I like the apple cinnamon the b...   \n",
              "\n",
              "                                             cleanTxt  Polarity  result  \\\n",
              "0   I have bought several of the Vitality canned d...  0.450000       1   \n",
              "1   If you are looking for the secret ingredient i...  0.166667       1   \n",
              "2   Right now I'm mostly just sprouting this so my...  0.428571       1   \n",
              "3   This is a very healthy dog food. Good for thei...  0.450000       1   \n",
              "4   I love eating them and they are good for watch...  0.506250       1   \n",
              "5   I am very satisfied with my Twizzler purchase....  0.412500       1   \n",
              "6   Candy was delivered very fast and was purchase...  0.240000       1   \n",
              "7   I can remember buying this candy as a kid and ...  0.125000       1   \n",
              "8   I love this candy.  After weight watchers I ha...  0.250000       1   \n",
              "9   I was so glad Amazon carried these batteries. ...  0.145833       1   \n",
              "10  I have McCann's Oatmeal every morning and by o...  0.687500       1   \n",
              "11  We really like the McCann's steel cut oats but...  0.466667       1   \n",
              "12  Good oatmeal.  I like the apple cinnamon the b...  0.475000       1   \n",
              "\n",
              "    Subjectivity  Analysis  \n",
              "0       0.433333  Positive  \n",
              "1       0.533333  Positive  \n",
              "2       0.545238  Positive  \n",
              "3       0.562500  Positive  \n",
              "4       0.587500  Positive  \n",
              "5       0.675000  Positive  \n",
              "6       0.720000  Positive  \n",
              "7       0.875000  Positive  \n",
              "8       0.300000  Positive  \n",
              "9       0.760417  Positive  \n",
              "10      0.693750  Positive  \n",
              "11      0.433333  Positive  \n",
              "12      0.468750  Positive  "
            ],
            "text/html": [
              "\n",
              "  <div id=\"df-68682437-8b72-473d-9b67-b2234841b8bd\">\n",
              "    <div class=\"colab-df-container\">\n",
              "      <div>\n",
              "<style scoped>\n",
              "    .dataframe tbody tr th:only-of-type {\n",
              "        vertical-align: middle;\n",
              "    }\n",
              "\n",
              "    .dataframe tbody tr th {\n",
              "        vertical-align: top;\n",
              "    }\n",
              "\n",
              "    .dataframe thead th {\n",
              "        text-align: right;\n",
              "    }\n",
              "</style>\n",
              "<table border=\"1\" class=\"dataframe\">\n",
              "  <thead>\n",
              "    <tr style=\"text-align: right;\">\n",
              "      <th></th>\n",
              "      <th>texto</th>\n",
              "      <th>cleanTxt</th>\n",
              "      <th>Polarity</th>\n",
              "      <th>result</th>\n",
              "      <th>Subjectivity</th>\n",
              "      <th>Analysis</th>\n",
              "    </tr>\n",
              "  </thead>\n",
              "  <tbody>\n",
              "    <tr>\n",
              "      <th>0</th>\n",
              "      <td>I have bought several of the Vitality canned d...</td>\n",
              "      <td>I have bought several of the Vitality canned d...</td>\n",
              "      <td>0.450000</td>\n",
              "      <td>1</td>\n",
              "      <td>0.433333</td>\n",
              "      <td>Positive</td>\n",
              "    </tr>\n",
              "    <tr>\n",
              "      <th>1</th>\n",
              "      <td>If you are looking for the secret ingredient i...</td>\n",
              "      <td>If you are looking for the secret ingredient i...</td>\n",
              "      <td>0.166667</td>\n",
              "      <td>1</td>\n",
              "      <td>0.533333</td>\n",
              "      <td>Positive</td>\n",
              "    </tr>\n",
              "    <tr>\n",
              "      <th>2</th>\n",
              "      <td>Right now I'm mostly just sprouting this so my...</td>\n",
              "      <td>Right now I'm mostly just sprouting this so my...</td>\n",
              "      <td>0.428571</td>\n",
              "      <td>1</td>\n",
              "      <td>0.545238</td>\n",
              "      <td>Positive</td>\n",
              "    </tr>\n",
              "    <tr>\n",
              "      <th>3</th>\n",
              "      <td>This is a very healthy dog food. Good for thei...</td>\n",
              "      <td>This is a very healthy dog food. Good for thei...</td>\n",
              "      <td>0.450000</td>\n",
              "      <td>1</td>\n",
              "      <td>0.562500</td>\n",
              "      <td>Positive</td>\n",
              "    </tr>\n",
              "    <tr>\n",
              "      <th>4</th>\n",
              "      <td>I love eating them and they are good for watch...</td>\n",
              "      <td>I love eating them and they are good for watch...</td>\n",
              "      <td>0.506250</td>\n",
              "      <td>1</td>\n",
              "      <td>0.587500</td>\n",
              "      <td>Positive</td>\n",
              "    </tr>\n",
              "    <tr>\n",
              "      <th>5</th>\n",
              "      <td>I am very satisfied with my Twizzler purchase....</td>\n",
              "      <td>I am very satisfied with my Twizzler purchase....</td>\n",
              "      <td>0.412500</td>\n",
              "      <td>1</td>\n",
              "      <td>0.675000</td>\n",
              "      <td>Positive</td>\n",
              "    </tr>\n",
              "    <tr>\n",
              "      <th>6</th>\n",
              "      <td>Candy was delivered very fast and was purchase...</td>\n",
              "      <td>Candy was delivered very fast and was purchase...</td>\n",
              "      <td>0.240000</td>\n",
              "      <td>1</td>\n",
              "      <td>0.720000</td>\n",
              "      <td>Positive</td>\n",
              "    </tr>\n",
              "    <tr>\n",
              "      <th>7</th>\n",
              "      <td>I can remember buying this candy as a kid and ...</td>\n",
              "      <td>I can remember buying this candy as a kid and ...</td>\n",
              "      <td>0.125000</td>\n",
              "      <td>1</td>\n",
              "      <td>0.875000</td>\n",
              "      <td>Positive</td>\n",
              "    </tr>\n",
              "    <tr>\n",
              "      <th>8</th>\n",
              "      <td>I love this candy.  After weight watchers I ha...</td>\n",
              "      <td>I love this candy.  After weight watchers I ha...</td>\n",
              "      <td>0.250000</td>\n",
              "      <td>1</td>\n",
              "      <td>0.300000</td>\n",
              "      <td>Positive</td>\n",
              "    </tr>\n",
              "    <tr>\n",
              "      <th>9</th>\n",
              "      <td>I was so glad Amazon carried these batteries. ...</td>\n",
              "      <td>I was so glad Amazon carried these batteries. ...</td>\n",
              "      <td>0.145833</td>\n",
              "      <td>1</td>\n",
              "      <td>0.760417</td>\n",
              "      <td>Positive</td>\n",
              "    </tr>\n",
              "    <tr>\n",
              "      <th>10</th>\n",
              "      <td>I have McCann's Oatmeal every morning and by o...</td>\n",
              "      <td>I have McCann's Oatmeal every morning and by o...</td>\n",
              "      <td>0.687500</td>\n",
              "      <td>1</td>\n",
              "      <td>0.693750</td>\n",
              "      <td>Positive</td>\n",
              "    </tr>\n",
              "    <tr>\n",
              "      <th>11</th>\n",
              "      <td>We really like the McCann's steel cut oats but...</td>\n",
              "      <td>We really like the McCann's steel cut oats but...</td>\n",
              "      <td>0.466667</td>\n",
              "      <td>1</td>\n",
              "      <td>0.433333</td>\n",
              "      <td>Positive</td>\n",
              "    </tr>\n",
              "    <tr>\n",
              "      <th>12</th>\n",
              "      <td>Good oatmeal.  I like the apple cinnamon the b...</td>\n",
              "      <td>Good oatmeal.  I like the apple cinnamon the b...</td>\n",
              "      <td>0.475000</td>\n",
              "      <td>1</td>\n",
              "      <td>0.468750</td>\n",
              "      <td>Positive</td>\n",
              "    </tr>\n",
              "  </tbody>\n",
              "</table>\n",
              "</div>\n",
              "      <button class=\"colab-df-convert\" onclick=\"convertToInteractive('df-68682437-8b72-473d-9b67-b2234841b8bd')\"\n",
              "              title=\"Convert this dataframe to an interactive table.\"\n",
              "              style=\"display:none;\">\n",
              "        \n",
              "  <svg xmlns=\"http://www.w3.org/2000/svg\" height=\"24px\"viewBox=\"0 0 24 24\"\n",
              "       width=\"24px\">\n",
              "    <path d=\"M0 0h24v24H0V0z\" fill=\"none\"/>\n",
              "    <path d=\"M18.56 5.44l.94 2.06.94-2.06 2.06-.94-2.06-.94-.94-2.06-.94 2.06-2.06.94zm-11 1L8.5 8.5l.94-2.06 2.06-.94-2.06-.94L8.5 2.5l-.94 2.06-2.06.94zm10 10l.94 2.06.94-2.06 2.06-.94-2.06-.94-.94-2.06-.94 2.06-2.06.94z\"/><path d=\"M17.41 7.96l-1.37-1.37c-.4-.4-.92-.59-1.43-.59-.52 0-1.04.2-1.43.59L10.3 9.45l-7.72 7.72c-.78.78-.78 2.05 0 2.83L4 21.41c.39.39.9.59 1.41.59.51 0 1.02-.2 1.41-.59l7.78-7.78 2.81-2.81c.8-.78.8-2.07 0-2.86zM5.41 20L4 18.59l7.72-7.72 1.47 1.35L5.41 20z\"/>\n",
              "  </svg>\n",
              "      </button>\n",
              "      \n",
              "  <style>\n",
              "    .colab-df-container {\n",
              "      display:flex;\n",
              "      flex-wrap:wrap;\n",
              "      gap: 12px;\n",
              "    }\n",
              "\n",
              "    .colab-df-convert {\n",
              "      background-color: #E8F0FE;\n",
              "      border: none;\n",
              "      border-radius: 50%;\n",
              "      cursor: pointer;\n",
              "      display: none;\n",
              "      fill: #1967D2;\n",
              "      height: 32px;\n",
              "      padding: 0 0 0 0;\n",
              "      width: 32px;\n",
              "    }\n",
              "\n",
              "    .colab-df-convert:hover {\n",
              "      background-color: #E2EBFA;\n",
              "      box-shadow: 0px 1px 2px rgba(60, 64, 67, 0.3), 0px 1px 3px 1px rgba(60, 64, 67, 0.15);\n",
              "      fill: #174EA6;\n",
              "    }\n",
              "\n",
              "    [theme=dark] .colab-df-convert {\n",
              "      background-color: #3B4455;\n",
              "      fill: #D2E3FC;\n",
              "    }\n",
              "\n",
              "    [theme=dark] .colab-df-convert:hover {\n",
              "      background-color: #434B5C;\n",
              "      box-shadow: 0px 1px 3px 1px rgba(0, 0, 0, 0.15);\n",
              "      filter: drop-shadow(0px 1px 2px rgba(0, 0, 0, 0.3));\n",
              "      fill: #FFFFFF;\n",
              "    }\n",
              "  </style>\n",
              "\n",
              "      <script>\n",
              "        const buttonEl =\n",
              "          document.querySelector('#df-68682437-8b72-473d-9b67-b2234841b8bd button.colab-df-convert');\n",
              "        buttonEl.style.display =\n",
              "          google.colab.kernel.accessAllowed ? 'block' : 'none';\n",
              "\n",
              "        async function convertToInteractive(key) {\n",
              "          const element = document.querySelector('#df-68682437-8b72-473d-9b67-b2234841b8bd');\n",
              "          const dataTable =\n",
              "            await google.colab.kernel.invokeFunction('convertToInteractive',\n",
              "                                                     [key], {});\n",
              "          if (!dataTable) return;\n",
              "\n",
              "          const docLinkHtml = 'Like what you see? Visit the ' +\n",
              "            '<a target=\"_blank\" href=https://colab.research.google.com/notebooks/data_table.ipynb>data table notebook</a>'\n",
              "            + ' to learn more about interactive tables.';\n",
              "          element.innerHTML = '';\n",
              "          dataTable['output_type'] = 'display_data';\n",
              "          await google.colab.output.renderOutput(dataTable, element);\n",
              "          const docLink = document.createElement('div');\n",
              "          docLink.innerHTML = docLinkHtml;\n",
              "          element.appendChild(docLink);\n",
              "        }\n",
              "      </script>\n",
              "    </div>\n",
              "  </div>\n",
              "  "
            ]
          },
          "metadata": {},
          "execution_count": 162
        }
      ]
    },
    {
      "cell_type": "code",
      "source": [
        " #imprimiendo tweets positivos\n",
        "print('imprimiendo tweets positivos: \\n')\n",
        "j=1\n",
        "sortedDF = df.sort_values (by=['Polarity']) # ordenar tweets\n",
        "for i in range(0, sortedDF.shape [0] ):\n",
        "  if( sortedDF['Analysis'][i] == 'Positive'):\n",
        "    print(str(j) +')'+ sortedDF[ 'texto'][1])\n",
        "    print()\n",
        "  j=j+1"
      ],
      "metadata": {
        "colab": {
          "base_uri": "https://localhost:8080/"
        },
        "id": "CiJeh7GwJSRe",
        "outputId": "0fba2d5c-8e23-4eaf-f65c-fcc7dabcd006"
      },
      "execution_count": 171,
      "outputs": [
        {
          "output_type": "stream",
          "name": "stdout",
          "text": [
            "imprimiendo tweets positivos: \n",
            "\n",
            "1)If you are looking for the secret ingredient in Robitussin I believe I have found it.  I got this in addition to the Root Beer Extract I ordered (which was good) and made some cherry soda.  The flavor is very medicinal.;\n",
            "\n",
            "2)If you are looking for the secret ingredient in Robitussin I believe I have found it.  I got this in addition to the Root Beer Extract I ordered (which was good) and made some cherry soda.  The flavor is very medicinal.;\n",
            "\n",
            "3)If you are looking for the secret ingredient in Robitussin I believe I have found it.  I got this in addition to the Root Beer Extract I ordered (which was good) and made some cherry soda.  The flavor is very medicinal.;\n",
            "\n",
            "4)If you are looking for the secret ingredient in Robitussin I believe I have found it.  I got this in addition to the Root Beer Extract I ordered (which was good) and made some cherry soda.  The flavor is very medicinal.;\n",
            "\n",
            "5)If you are looking for the secret ingredient in Robitussin I believe I have found it.  I got this in addition to the Root Beer Extract I ordered (which was good) and made some cherry soda.  The flavor is very medicinal.;\n",
            "\n",
            "6)If you are looking for the secret ingredient in Robitussin I believe I have found it.  I got this in addition to the Root Beer Extract I ordered (which was good) and made some cherry soda.  The flavor is very medicinal.;\n",
            "\n",
            "7)If you are looking for the secret ingredient in Robitussin I believe I have found it.  I got this in addition to the Root Beer Extract I ordered (which was good) and made some cherry soda.  The flavor is very medicinal.;\n",
            "\n",
            "8)If you are looking for the secret ingredient in Robitussin I believe I have found it.  I got this in addition to the Root Beer Extract I ordered (which was good) and made some cherry soda.  The flavor is very medicinal.;\n",
            "\n",
            "9)If you are looking for the secret ingredient in Robitussin I believe I have found it.  I got this in addition to the Root Beer Extract I ordered (which was good) and made some cherry soda.  The flavor is very medicinal.;\n",
            "\n",
            "10)If you are looking for the secret ingredient in Robitussin I believe I have found it.  I got this in addition to the Root Beer Extract I ordered (which was good) and made some cherry soda.  The flavor is very medicinal.;\n",
            "\n",
            "11)If you are looking for the secret ingredient in Robitussin I believe I have found it.  I got this in addition to the Root Beer Extract I ordered (which was good) and made some cherry soda.  The flavor is very medicinal.;\n",
            "\n",
            "12)If you are looking for the secret ingredient in Robitussin I believe I have found it.  I got this in addition to the Root Beer Extract I ordered (which was good) and made some cherry soda.  The flavor is very medicinal.;\n",
            "\n",
            "13)If you are looking for the secret ingredient in Robitussin I believe I have found it.  I got this in addition to the Root Beer Extract I ordered (which was good) and made some cherry soda.  The flavor is very medicinal.;\n",
            "\n"
          ]
        }
      ]
    },
    {
      "cell_type": "code",
      "source": [
        " #Plotting\n",
        "plt.figure(figsize=(8,5))\n",
        "for i in range(0, df.shape[0]):\n",
        "  plt.scatter(df[\"Polarity\"][i], df [\"Subjectivity\"][i], color='Blue')\n",
        "#plt.scatter(x,y,color)\n",
        "plt.title('Sentiment Analysis')\n",
        "plt.xlabel('Polarity')\n",
        "plt.ylabel('Subjectivity')\n",
        "plt.show()"
      ],
      "metadata": {
        "colab": {
          "base_uri": "https://localhost:8080/",
          "height": 350
        },
        "id": "GD17FJcFK76d",
        "outputId": "dcd90239-8922-422d-e3f3-85e386c84900"
      },
      "execution_count": 174,
      "outputs": [
        {
          "output_type": "display_data",
          "data": {
            "text/plain": [
              "<Figure size 576x360 with 1 Axes>"
            ],
            "image/png": "[encoded data removed]"
          },
          "metadata": {
            "needs_background": "light"
          }
        }
      ]
    },
    {
      "cell_type": "code",
      "source": [
        " #imprimiendo el porcentaje de tweets positivos\n",
        "ptweets = df[df.Analysis == 'Positive']\n",
        "ptweets = ptweets['texto']\n",
        "ptweets\n",
        "round( (ptweets.shape [0] / df.shape [0]) * 100, 1)"
      ],
      "metadata": {
        "colab": {
          "base_uri": "https://localhost:8080/"
        },
        "id": "2JufWgI_LKe2",
        "outputId": "23e07938-ea9b-4153-e4ae-181c45763ecc"
      },
      "execution_count": 178,
      "outputs": [
        {
          "output_type": "execute_result",
          "data": {
            "text/plain": [
              "100.0"
            ]
          },
          "metadata": {},
          "execution_count": 178
        }
      ]
    },
    {
      "cell_type": "code",
      "source": [
        " #imprimiendo el porcentaje de tweets negativos\n",
        "ntweets = df[df.Analysis == 'Negative']\n",
        "ntweets = ntweets['texto']\n",
        "ntweets\n",
        "round (ntweets.shape [0] / df.shape [0] * 100, 1)\n"
      ],
      "metadata": {
        "colab": {
          "base_uri": "https://localhost:8080/"
        },
        "id": "8qSOUarYMCjJ",
        "outputId": "b373736b-222e-4db0-ce9c-54d201a889f3"
      },
      "execution_count": 185,
      "outputs": [
        {
          "output_type": "execute_result",
          "data": {
            "text/plain": [
              "0.0"
            ]
          },
          "metadata": {},
          "execution_count": 185
        }
      ]
    },
    {
      "cell_type": "code",
      "source": [
        " #mostrar el recuento de valores\n",
        "df['Analysis'].value_counts()"
      ],
      "metadata": {
        "colab": {
          "base_uri": "https://localhost:8080/"
        },
        "id": "EJ39OQ-SMY4P",
        "outputId": "cc4a50c3-449b-4fba-d9f7-e3dbfb0c2221"
      },
      "execution_count": 186,
      "outputs": [
        {
          "output_type": "execute_result",
          "data": {
            "text/plain": [
              "Positive    13\n",
              "Name: Analysis, dtype: int64"
            ]
          },
          "metadata": {},
          "execution_count": 186
        }
      ]
    },
    {
      "cell_type": "code",
      "source": [
        " #visualizar el conteo\n",
        "plt.title('Sentiment Analysis')\n",
        "plt.xlabel('Sentiment')\n",
        "plt.ylabel('Counts')\n",
        "df['Analysis'].value_counts().plot(kind = 'bar')\n",
        "plt.show()\n"
      ],
      "metadata": {
        "colab": {
          "base_uri": "https://localhost:8080/",
          "height": 324
        },
        "id": "OaEkWPmjLzGz",
        "outputId": "bb3a4770-6a87-41f1-ff29-45fdde86628c"
      },
      "execution_count": 180,
      "outputs": [
        {
          "output_type": "display_data",
          "data": {
            "text/plain": [
              "<Figure size 432x288 with 1 Axes>"
            ],
            "image/png": "[encoded data removed]"
          },
          "metadata": {
            "needs_background": "light"
          }
        }
      ]
    }
  ]
}